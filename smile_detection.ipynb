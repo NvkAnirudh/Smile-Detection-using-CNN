{
 "cells": [
  {
   "cell_type": "code",
   "execution_count": 1,
   "metadata": {},
   "outputs": [],
   "source": [
    "# importing all required libraries\n",
    "from imutils import paths\n",
    "import cv2\n",
    "import numpy as np\n",
    "import pandas as pd\n",
    "import matplotlib.pyplot as plt\n",
    "import seaborn as sns\n",
    "from tensorflow.keras.preprocessing.image import img_to_array\n",
    "from tensorflow.keras.applications.resnet50 import ResNet50\n",
    "from tensorflow.keras.applications import VGG16, ResNet152V2, Xception, InceptionResNetV2\n",
    "from tensorflow.keras.utils import to_categorical\n",
    "from tensorflow.keras.optimizers import SGD\n",
    "from keras.layers import Flatten, Dense, AveragePooling2D, Dropout, Input, BatchNormalization, Conv2D, Activation, MaxPooling2D\n",
    "from tensorflow.keras.optimizers import Adam\n",
    "from keras.models import Model, Sequential\n",
    "from sklearn.model_selection import train_test_split\n",
    "from sklearn.metrics import classification_report\n",
    "\n",
    "# dataset path\n",
    "input_dir = \"SMILEsmileD\"\n",
    "imagePaths = sorted(list(paths.list_images(input_dir)))"
   ]
  },
  {
   "cell_type": "code",
   "execution_count": 2,
   "metadata": {},
   "outputs": [],
   "source": [
    "# looping thorugh all the image paths and storing the NumPy arrays of each image\n",
    "# Determining the class names from the file path\n",
    "image_data = []\n",
    "labels = []\n",
    "\n",
    "for path in imagePaths:\n",
    "    image = cv2.imread(path)\n",
    "    image = img_to_array(image)\n",
    "    image_data.append(image)\n",
    "    \n",
    "    label = path.split(\"\\\\\")[-3]\n",
    "    if label == \"negatives\":\n",
    "        label = \"not smiling\"\n",
    "    else:\n",
    "        label = \"smiling\"\n",
    "    labels.append(label)\n",
    "\n",
    "# Converting image data to numpy array\n",
    "image_data = np.asarray(image_data) / 255.0"
   ]
  },
  {
   "cell_type": "code",
   "execution_count": 3,
   "metadata": {},
   "outputs": [
    {
     "name": "stderr",
     "output_type": "stream",
     "text": [
      "C:\\Users\\nvkanirudh\\anaconda3\\lib\\site-packages\\seaborn\\_decorators.py:36: FutureWarning: Pass the following variables as keyword args: x, y. From version 0.12, the only valid positional argument will be `data`, and passing other arguments without an explicit keyword will result in an error or misinterpretation.\n",
      "  warnings.warn(\n"
     ]
    },
    {
     "data": {
      "image/png": "[encoded data removed]",
      "text/plain": [
       "<Figure size 864x288 with 1 Axes>"
      ]
     },
     "metadata": {
      "needs_background": "light"
     },
     "output_type": "display_data"
    }
   ],
   "source": [
    "# Class Distribution\n",
    "df = pd.DataFrame(labels, columns=[\"Labels\"])\n",
    "counts = df[\"Labels\"].value_counts()\n",
    "plt.figure(figsize=(12,4))\n",
    "sns.barplot(counts.index, counts.values, alpha=0.8)\n",
    "plt.ylabel('Number of Occurrences', fontsize=12)\n",
    "plt.xlabel('Labels', fontsize=12)\n",
    "plt.xticks(rotation=90)\n",
    "plt.show();\n",
    "\n",
    "# Converting labels to numpy array\n",
    "labels = np.asarray(labels)"
   ]
  },
  {
   "cell_type": "code",
   "execution_count": 4,
   "metadata": {},
   "outputs": [],
   "source": [
    "# Converting labels to numericals\n",
    "from sklearn.preprocessing import LabelEncoder\n",
    "\n",
    "lencoder = LabelEncoder()\n",
    "lencoder.fit(labels)\n",
    "labels = to_categorical(lencoder.transform(labels),2)"
   ]
  },
  {
   "cell_type": "code",
   "execution_count": 5,
   "metadata": {},
   "outputs": [
    {
     "data": {
      "text/plain": [
       "{0: 1.0, 1: 2.5677507}"
      ]
     },
     "execution_count": 5,
     "metadata": {},
     "output_type": "execute_result"
    }
   ],
   "source": [
    "# Since the dataset is imbalanced, handling it by assigning weights to classes\n",
    "classes = labels.sum(axis=0)\n",
    "class_weights = {}\n",
    "\n",
    "for i in range(len(classes)):\n",
    "    class_weights[i] = classes.max() / classes[i]\n",
    "\n",
    "class_weights"
   ]
  },
  {
   "cell_type": "code",
   "execution_count": 6,
   "metadata": {},
   "outputs": [],
   "source": [
    "# Splitting the dataset\n",
    "X_train, X_test, y_train, y_test = train_test_split(image_data, labels, test_size=0.2, stratify=labels, random_state=42)\n",
    "\n",
    "# Creating validation data\n",
    "X_train = X_train[:-round(len(X_train)/10)]\n",
    "y_train = y_train[:-round(len(y_train)/10)]\n",
    "X_val = X_train[-round(len(X_train)/10):]\n",
    "y_val = y_train[-round(len(y_train)/10):]"
   ]
  },
  {
   "cell_type": "markdown",
   "metadata": {},
   "source": [
    "# ResNet50"
   ]
  },
  {
   "cell_type": "code",
   "execution_count": 7,
   "metadata": {},
   "outputs": [],
   "source": [
    "# loading ResNet50 pre-trained model\n",
    "keras_resnet50 = ResNet50(weights=\"imagenet\", include_top=False, input_shape=X_train.shape[1:4])\n",
    "\n",
    "# Creating custom FC layers\n",
    "head = keras_resnet50.output\n",
    "head = MaxPooling2D(pool_size=(2,2))(head)\n",
    "head = Flatten()(head)\n",
    "head = Dense(256, activation='relu')(head)\n",
    "head = Dropout(0.5)(head)\n",
    "head = Dense(2, activation='softmax')(head)\n",
    "\n",
    "model = Model(inputs=keras_resnet50.input, outputs=head)"
   ]
  },
  {
   "cell_type": "code",
   "execution_count": 8,
   "metadata": {},
   "outputs": [
    {
     "name": "stderr",
     "output_type": "stream",
     "text": [
      "C:\\Users\\nvkanirudh\\anaconda3\\lib\\site-packages\\keras\\optimizer_v2\\adam.py:105: UserWarning: The `lr` argument is deprecated, use `learning_rate` instead.\n",
      "  super(Adam, self).__init__(name, **kwargs)\n"
     ]
    },
    {
     "name": "stdout",
     "output_type": "stream",
     "text": [
      "Epoch 1/15\n",
      "297/297 [==============================] - 18s 27ms/step - loss: 0.9839 - accuracy: 0.5849 - val_loss: 0.6689 - val_accuracy: 0.5802\n",
      "Epoch 2/15\n",
      "297/297 [==============================] - 6s 21ms/step - loss: 0.8812 - accuracy: 0.6722 - val_loss: 0.6469 - val_accuracy: 0.6055\n",
      "Epoch 3/15\n",
      "297/297 [==============================] - 6s 21ms/step - loss: 0.8436 - accuracy: 0.6839 - val_loss: 0.5223 - val_accuracy: 0.7595\n",
      "Epoch 4/15\n",
      "297/297 [==============================] - 6s 21ms/step - loss: 0.8135 - accuracy: 0.7065 - val_loss: 0.7201 - val_accuracy: 0.5559\n",
      "Epoch 5/15\n",
      "297/297 [==============================] - 6s 21ms/step - loss: 0.7965 - accuracy: 0.7164 - val_loss: 0.4424 - val_accuracy: 0.7985\n",
      "Epoch 6/15\n",
      "297/297 [==============================] - 7s 22ms/step - loss: 0.7810 - accuracy: 0.7175 - val_loss: 0.4578 - val_accuracy: 0.8059\n",
      "Epoch 7/15\n",
      "297/297 [==============================] - 7s 22ms/step - loss: 0.7718 - accuracy: 0.7257 - val_loss: 0.4623 - val_accuracy: 0.7922\n",
      "Epoch 8/15\n",
      "297/297 [==============================] - 6s 22ms/step - loss: 0.7592 - accuracy: 0.7354 - val_loss: 0.4216 - val_accuracy: 0.8175\n",
      "Epoch 9/15\n",
      "297/297 [==============================] - 7s 22ms/step - loss: 0.7472 - accuracy: 0.7431 - val_loss: 0.4297 - val_accuracy: 0.8186\n",
      "Epoch 10/15\n",
      "297/297 [==============================] - 7s 22ms/step - loss: 0.7409 - accuracy: 0.7473 - val_loss: 0.4905 - val_accuracy: 0.7627\n",
      "Epoch 11/15\n",
      "297/297 [==============================] - 7s 22ms/step - loss: 0.7420 - accuracy: 0.7394 - val_loss: 0.5639 - val_accuracy: 0.6941\n",
      "Epoch 12/15\n",
      "297/297 [==============================] - 7s 24ms/step - loss: 0.7453 - accuracy: 0.7413 - val_loss: 0.4769 - val_accuracy: 0.7869\n",
      "Epoch 13/15\n",
      "297/297 [==============================] - 7s 23ms/step - loss: 0.7282 - accuracy: 0.7559 - val_loss: 0.4447 - val_accuracy: 0.8027\n",
      "Epoch 14/15\n",
      "297/297 [==============================] - 7s 23ms/step - loss: 0.7216 - accuracy: 0.7557 - val_loss: 0.5054 - val_accuracy: 0.7489\n",
      "Epoch 15/15\n",
      "297/297 [==============================] - 7s 23ms/step - loss: 0.7135 - accuracy: 0.7560 - val_loss: 0.4284 - val_accuracy: 0.8154\n"
     ]
    }
   ],
   "source": [
    "# Freezing the pre trained layers so that their weights don't get updated\n",
    "for layer in keras_resnet50.layers:\n",
    "    layer.trainable=False\n",
    "\n",
    "# learning rate\n",
    "lr = 0.001\n",
    "epochs=15\n",
    "opt = Adam(lr=0.001, decay=0.001 / epochs)\n",
    "model.compile(loss=\"binary_crossentropy\", optimizer=opt, metrics=[\"accuracy\"])\n",
    "\n",
    "history = model.fit(X_train, y_train, epochs=epochs, validation_data=(X_val, y_val), class_weight=class_weights, batch_size=32)"
   ]
  },
  {
   "cell_type": "code",
   "execution_count": 9,
   "metadata": {},
   "outputs": [
    {
     "name": "stdout",
     "output_type": "stream",
     "text": [
      "Training Accuracy: 75.6\n",
      "Validation Accuracy: 81.5\n"
     ]
    },
    {
     "data": {
      "image/png": "[encoded data removed]",
      "text/plain": [
       "<Figure size 432x288 with 1 Axes>"
      ]
     },
     "metadata": {
      "needs_background": "light"
     },
     "output_type": "display_data"
    },
    {
     "data": {
      "image/png": "[encoded data removed]",
      "text/plain": [
       "<Figure size 432x288 with 1 Axes>"
      ]
     },
     "metadata": {
      "needs_background": "light"
     },
     "output_type": "display_data"
    }
   ],
   "source": [
    "# Plotting loss and accuracy\n",
    "print(\"Training Accuracy:\", round(history.history['accuracy'][-1],3)*100)\n",
    "print(\"Validation Accuracy:\", round(history.history['val_accuracy'][-1],3)*100)\n",
    "# summarize history for accuracy\n",
    "plt.plot(history.history['accuracy'])\n",
    "plt.plot(history.history['val_accuracy'])\n",
    "plt.title('model accuracy')\n",
    "plt.ylabel('accuracy')\n",
    "plt.xlabel('epoch')\n",
    "plt.legend(['train_acc', 'val_acc'], loc='upper right')\n",
    "plt.show()\n",
    "\n",
    "plt.plot(history.history['loss'])\n",
    "plt.plot(history.history['val_loss'])\n",
    "plt.title('model loss')\n",
    "plt.ylabel('loss')\n",
    "plt.xlabel('epoch')\n",
    "plt.legend(['train_loss', 'val_loss'], loc='upper right')\n",
    "plt.show()\n",
    "\n"
   ]
  },
  {
   "cell_type": "code",
   "execution_count": 10,
   "metadata": {},
   "outputs": [
    {
     "name": "stdout",
     "output_type": "stream",
     "text": [
      "              precision    recall  f1-score   support\n",
      "\n",
      " not smiling       0.90      0.79      0.84      1895\n",
      "     smiling       0.59      0.77      0.67       738\n",
      "\n",
      "    accuracy                           0.79      2633\n",
      "   macro avg       0.75      0.78      0.76      2633\n",
      "weighted avg       0.81      0.79      0.79      2633\n",
      "\n"
     ]
    }
   ],
   "source": [
    "# Testing on test set and calculating accuracy\n",
    "predictions = model.predict(X_test, batch_size=32)\n",
    "print(classification_report(y_test.argmax(axis=1), predictions.argmax(axis=1), target_names=lencoder.classes_))"
   ]
  },
  {
   "cell_type": "code",
   "execution_count": 11,
   "metadata": {},
   "outputs": [
    {
     "name": "stdout",
     "output_type": "stream",
     "text": [
      "[[0.07841473 0.92158526]]\n",
      "smiling\n",
      "[[0.88794947 0.11205051]]\n",
      "Not Smiling\n"
     ]
    }
   ],
   "source": [
    "# Haar Cascadde to detect faces in a given custom images\n",
    "detector = cv2.CascadeClassifier(\"haarcascade_frontalface_default.xml\")\n",
    "# Testing smiling face\n",
    "input_image = cv2.imread(\"smiling_face.jpg\")\n",
    "input_image = cv2.resize(input_image, (300, 300))\n",
    "\n",
    "detects = detector.detectMultiScale(input_image, scaleFactor=1.1, minNeighbors=5, minSize=(30, 30), flags=cv2.CASCADE_SCALE_IMAGE)\n",
    "for (x, y, width, height) in detects:\n",
    "    roi = input_image[y:y+height, x:x+width]\n",
    "    roi = cv2.resize(roi, (64, 64))\n",
    "    roi = roi/255.0\n",
    "    roi = img_to_array(roi)\n",
    "    roi = np.expand_dims(roi, axis=0)\n",
    "    print(model.predict(roi))\n",
    "    (notSmiling, smiling) = model.predict(roi)[0]\n",
    "    if smiling > notSmiling:\n",
    "        label = \"smiling\"\n",
    "    else:\n",
    "        label = \"Not Smiling\"\n",
    "    print(label)\n",
    "    \n",
    "# Testing not smiling face\n",
    "input_image = cv2.imread(\"not_smiling_face.jpg\")\n",
    "input_image = cv2.resize(input_image, (300, 300))\n",
    "\n",
    "detects = detector.detectMultiScale(input_image, scaleFactor=1.1, minNeighbors=5, minSize=(30, 30), flags=cv2.CASCADE_SCALE_IMAGE)\n",
    "for (x, y, width, height) in detects:\n",
    "    roi = input_image[y:y+height, x:x+width]\n",
    "    roi = cv2.resize(roi, (64, 64))\n",
    "    roi = roi/255.0\n",
    "    roi = img_to_array(roi)\n",
    "    roi = np.expand_dims(roi, axis=0)\n",
    "    print(model.predict(roi))\n",
    "    (notSmiling, smiling) = model.predict(roi)[0]\n",
    "    if smiling > notSmiling:\n",
    "        label = \"smiling\"\n",
    "    else:\n",
    "        label = \"Not Smiling\"\n",
    "    print(label)"
   ]
  },
  {
   "cell_type": "markdown",
   "metadata": {},
   "source": [
    "# VGG16"
   ]
  },
  {
   "cell_type": "code",
   "execution_count": 12,
   "metadata": {},
   "outputs": [],
   "source": [
    "# loading pre-trained VGG16 model\n",
    "keras_vgg16 = VGG16(weights=\"imagenet\", include_top=False, input_tensor=Input(shape=X_train.shape[1:4]))"
   ]
  },
  {
   "cell_type": "code",
   "execution_count": 13,
   "metadata": {},
   "outputs": [],
   "source": [
    "# Creating custom FC layers\n",
    "head = keras_vgg16.output\n",
    "head = MaxPooling2D(pool_size=(2,2))(head)\n",
    "head = Flatten()(head)\n",
    "head = Dense(256, activation='relu')(head) \n",
    "head = Dropout(0.5)(head)\n",
    "head = Dense(2, activation='softmax')(head)\n",
    "\n",
    "model = Model(inputs=keras_vgg16.input, outputs=head)"
   ]
  },
  {
   "cell_type": "code",
   "execution_count": 14,
   "metadata": {},
   "outputs": [
    {
     "name": "stderr",
     "output_type": "stream",
     "text": [
      "C:\\Users\\nvkanirudh\\anaconda3\\lib\\site-packages\\keras\\optimizer_v2\\adam.py:105: UserWarning: The `lr` argument is deprecated, use `learning_rate` instead.\n",
      "  super(Adam, self).__init__(name, **kwargs)\n"
     ]
    },
    {
     "name": "stdout",
     "output_type": "stream",
     "text": [
      "Epoch 1/15\n",
      "297/297 [==============================] - 9s 25ms/step - loss: 0.9750 - accuracy: 0.6114 - val_loss: 0.5532 - val_accuracy: 0.7616\n",
      "Epoch 2/15\n",
      "297/297 [==============================] - 6s 21ms/step - loss: 0.8380 - accuracy: 0.7117 - val_loss: 0.5107 - val_accuracy: 0.7722\n",
      "Epoch 3/15\n",
      "297/297 [==============================] - 6s 21ms/step - loss: 0.7838 - accuracy: 0.7395 - val_loss: 0.4784 - val_accuracy: 0.8070\n",
      "Epoch 4/15\n",
      "297/297 [==============================] - 6s 21ms/step - loss: 0.7389 - accuracy: 0.7637 - val_loss: 0.4393 - val_accuracy: 0.8249\n",
      "Epoch 5/15\n",
      "297/297 [==============================] - 6s 21ms/step - loss: 0.7178 - accuracy: 0.7698 - val_loss: 0.4337 - val_accuracy: 0.8249\n",
      "Epoch 6/15\n",
      "297/297 [==============================] - 6s 21ms/step - loss: 0.6972 - accuracy: 0.7850 - val_loss: 0.4553 - val_accuracy: 0.8006\n",
      "Epoch 7/15\n",
      "297/297 [==============================] - 6s 22ms/step - loss: 0.6737 - accuracy: 0.7881 - val_loss: 0.3922 - val_accuracy: 0.8428\n",
      "Epoch 8/15\n",
      "297/297 [==============================] - 6s 22ms/step - loss: 0.6587 - accuracy: 0.7977 - val_loss: 0.3989 - val_accuracy: 0.8365\n",
      "Epoch 9/15\n",
      "297/297 [==============================] - 6s 22ms/step - loss: 0.6431 - accuracy: 0.8019 - val_loss: 0.4034 - val_accuracy: 0.8333\n",
      "Epoch 10/15\n",
      "297/297 [==============================] - 6s 22ms/step - loss: 0.6327 - accuracy: 0.8026 - val_loss: 0.3640 - val_accuracy: 0.8523\n",
      "Epoch 11/15\n",
      "297/297 [==============================] - 6s 22ms/step - loss: 0.6182 - accuracy: 0.8104 - val_loss: 0.3776 - val_accuracy: 0.8354\n",
      "Epoch 12/15\n",
      "297/297 [==============================] - 6s 22ms/step - loss: 0.6120 - accuracy: 0.8149 - val_loss: 0.3671 - val_accuracy: 0.8418\n",
      "Epoch 13/15\n",
      "297/297 [==============================] - 6s 22ms/step - loss: 0.5994 - accuracy: 0.8166 - val_loss: 0.3670 - val_accuracy: 0.8407\n",
      "Epoch 14/15\n",
      "297/297 [==============================] - 6s 22ms/step - loss: 0.5919 - accuracy: 0.8182 - val_loss: 0.4127 - val_accuracy: 0.8302\n",
      "Epoch 15/15\n",
      "297/297 [==============================] - 6s 22ms/step - loss: 0.5905 - accuracy: 0.8151 - val_loss: 0.3603 - val_accuracy: 0.8481\n"
     ]
    }
   ],
   "source": [
    "# Freezing the pre trained layers so that their weights don't get updated\n",
    "for layer in keras_vgg16.layers:\n",
    "    layer.trainable=False\n",
    "\n",
    "lr = 0.0001\n",
    "epochs=15\n",
    "opt = Adam(lr=lr, decay=lr / epochs)\n",
    "model.compile(loss=\"binary_crossentropy\", optimizer=opt, metrics=[\"accuracy\"])\n",
    "\n",
    "history = model.fit(X_train, y_train, epochs=epochs, validation_data=(X_val, y_val), class_weight=class_weights, batch_size=32)"
   ]
  },
  {
   "cell_type": "code",
   "execution_count": 15,
   "metadata": {},
   "outputs": [
    {
     "name": "stdout",
     "output_type": "stream",
     "text": [
      "Training Accuracy: 81.5\n",
      "Validation Accuracy: 84.8\n"
     ]
    },
    {
     "data": {
      "image/png": "[encoded data removed]",
      "text/plain": [
       "<Figure size 432x288 with 1 Axes>"
      ]
     },
     "metadata": {
      "needs_background": "light"
     },
     "output_type": "display_data"
    },
    {
     "data": {
      "image/png": "[encoded data removed]",
      "text/plain": [
       "<Figure size 432x288 with 1 Axes>"
      ]
     },
     "metadata": {
      "needs_background": "light"
     },
     "output_type": "display_data"
    }
   ],
   "source": [
    "# Plotting loss and accuracy\n",
    "print(\"Training Accuracy:\", round(history.history['accuracy'][-1],3)*100)\n",
    "print(\"Validation Accuracy:\", round(history.history['val_accuracy'][-1],3)*100)\n",
    "# summarize history for accuracy\n",
    "plt.plot(history.history['accuracy'])\n",
    "plt.plot(history.history['val_accuracy'])\n",
    "plt.title('model accuracy')\n",
    "plt.ylabel('accuracy')\n",
    "plt.xlabel('epoch')\n",
    "plt.legend(['train_acc', 'val_acc'], loc='upper right')\n",
    "plt.show()\n",
    "\n",
    "plt.plot(history.history['loss'])\n",
    "plt.plot(history.history['val_loss'])\n",
    "plt.title('model loss')\n",
    "plt.ylabel('loss')\n",
    "plt.xlabel('epoch')\n",
    "plt.legend(['train_loss', 'val_loss'], loc='upper right')\n",
    "plt.show()"
   ]
  },
  {
   "cell_type": "code",
   "execution_count": 16,
   "metadata": {},
   "outputs": [
    {
     "name": "stdout",
     "output_type": "stream",
     "text": [
      "              precision    recall  f1-score   support\n",
      "\n",
      " not smiling       0.90      0.83      0.86      1895\n",
      "     smiling       0.64      0.77      0.70       738\n",
      "\n",
      "    accuracy                           0.81      2633\n",
      "   macro avg       0.77      0.80      0.78      2633\n",
      "weighted avg       0.83      0.81      0.82      2633\n",
      "\n"
     ]
    }
   ],
   "source": [
    "# Testing on test set and calculating accuracy\n",
    "predictions = model.predict(X_test, batch_size=32)\n",
    "print(classification_report(y_test.argmax(axis=1), predictions.argmax(axis=1), target_names=lencoder.classes_))"
   ]
  },
  {
   "cell_type": "code",
   "execution_count": 17,
   "metadata": {},
   "outputs": [
    {
     "name": "stdout",
     "output_type": "stream",
     "text": [
      "[[0.9556336  0.04436636]]\n",
      "Not Smiling\n",
      "[[0.92608863 0.07391141]]\n",
      "Not Smiling\n"
     ]
    }
   ],
   "source": [
    "# Haar Cascadde to detect faces in a given custom images\n",
    "detector = cv2.CascadeClassifier(\"haarcascade_frontalface_default.xml\")\n",
    "# Testing smiling face\n",
    "input_image = cv2.imread(\"smiling_face (1).jpg\")\n",
    "input_image = cv2.resize(input_image, (300, 300))\n",
    "\n",
    "detects = detector.detectMultiScale(input_image, scaleFactor=1.1, minNeighbors=5, minSize=(30, 30), flags=cv2.CASCADE_SCALE_IMAGE)\n",
    "for (x, y, width, height) in detects:\n",
    "    roi = input_image[y:y+height, x:x+width]\n",
    "    roi = cv2.resize(roi, (64, 64))\n",
    "    roi = roi/255.0\n",
    "    roi = img_to_array(roi)\n",
    "    roi = np.expand_dims(roi, axis=0)\n",
    "    print(model.predict(roi))\n",
    "    (notSmiling, smiling) = model.predict(roi)[0]\n",
    "    if smiling > notSmiling:\n",
    "        label = \"smiling\"\n",
    "    else:\n",
    "        label = \"Not Smiling\"\n",
    "    print(label)\n",
    "    \n",
    "# Testing not smiling face\n",
    "input_image = cv2.imread(\"not_smiling_face.jpg\")\n",
    "input_image = cv2.resize(input_image, (300, 300))\n",
    "\n",
    "detects = detector.detectMultiScale(input_image, scaleFactor=1.1, minNeighbors=5, minSize=(30, 30), flags=cv2.CASCADE_SCALE_IMAGE)\n",
    "for (x, y, width, height) in detects:\n",
    "    roi = input_image[y:y+height, x:x+width]\n",
    "    roi = cv2.resize(roi, (64, 64))\n",
    "    roi = roi/255.0\n",
    "    roi = img_to_array(roi)\n",
    "    roi = np.expand_dims(roi, axis=0)\n",
    "    print(model.predict(roi))\n",
    "    (notSmiling, smiling) = model.predict(roi)[0]\n",
    "    if smiling > notSmiling:\n",
    "        label = \"smiling\"\n",
    "    else:\n",
    "        label = \"Not Smiling\"\n",
    "    print(label)"
   ]
  },
  {
   "cell_type": "markdown",
   "metadata": {},
   "source": [
    "# ResNet152V2"
   ]
  },
  {
   "cell_type": "code",
   "execution_count": 18,
   "metadata": {},
   "outputs": [],
   "source": [
    "# loading pre-trained ResNet152V2 model\n",
    "keras_resnet152V2 = ResNet152V2(weights=\"imagenet\", include_top=False, input_shape=X_train.shape[1:4])\n",
    "\n",
    "# Creating custom FC layers\n",
    "head = keras_resnet152V2.output\n",
    "head = MaxPooling2D(pool_size=(2,2))(head)\n",
    "head = Flatten()(head)\n",
    "head = Dense(256, activation='relu')(head) \n",
    "head = Dropout(0.5)(head)\n",
    "head = Dense(2, activation='softmax')(head)\n",
    "\n",
    "model = Model(inputs=keras_resnet152V2.input, outputs=head)"
   ]
  },
  {
   "cell_type": "code",
   "execution_count": 19,
   "metadata": {},
   "outputs": [
    {
     "name": "stderr",
     "output_type": "stream",
     "text": [
      "C:\\Users\\nvkanirudh\\anaconda3\\lib\\site-packages\\keras\\optimizer_v2\\adam.py:105: UserWarning: The `lr` argument is deprecated, use `learning_rate` instead.\n",
      "  super(Adam, self).__init__(name, **kwargs)\n"
     ]
    },
    {
     "name": "stdout",
     "output_type": "stream",
     "text": [
      "Epoch 1/15\n",
      "297/297 [==============================] - 26s 63ms/step - loss: 1.0546 - accuracy: 0.6914 - val_loss: 0.4402 - val_accuracy: 0.8112\n",
      "Epoch 2/15\n",
      "297/297 [==============================] - 16s 53ms/step - loss: 0.6991 - accuracy: 0.7808 - val_loss: 0.3710 - val_accuracy: 0.8418\n",
      "Epoch 3/15\n",
      "297/297 [==============================] - 15s 51ms/step - loss: 0.6397 - accuracy: 0.8030 - val_loss: 0.3461 - val_accuracy: 0.8534\n",
      "Epoch 4/15\n",
      "297/297 [==============================] - 15s 51ms/step - loss: 0.5971 - accuracy: 0.8142 - val_loss: 0.3477 - val_accuracy: 0.8555\n",
      "Epoch 5/15\n",
      "297/297 [==============================] - 15s 51ms/step - loss: 0.5644 - accuracy: 0.8305 - val_loss: 0.3096 - val_accuracy: 0.8797\n",
      "Epoch 6/15\n",
      "297/297 [==============================] - 15s 51ms/step - loss: 0.5375 - accuracy: 0.8362 - val_loss: 0.2946 - val_accuracy: 0.8861\n",
      "Epoch 7/15\n",
      "297/297 [==============================] - 15s 50ms/step - loss: 0.5184 - accuracy: 0.8415 - val_loss: 0.2924 - val_accuracy: 0.8871\n",
      "Epoch 8/15\n",
      "297/297 [==============================] - 15s 51ms/step - loss: 0.4827 - accuracy: 0.8558 - val_loss: 0.2944 - val_accuracy: 0.8882\n",
      "Epoch 9/15\n",
      "297/297 [==============================] - 15s 51ms/step - loss: 0.4668 - accuracy: 0.8600 - val_loss: 0.2537 - val_accuracy: 0.8998\n",
      "Epoch 10/15\n",
      "297/297 [==============================] - 15s 52ms/step - loss: 0.4459 - accuracy: 0.8655 - val_loss: 0.2653 - val_accuracy: 0.9040\n",
      "Epoch 11/15\n",
      "297/297 [==============================] - 15s 51ms/step - loss: 0.4315 - accuracy: 0.8728 - val_loss: 0.2362 - val_accuracy: 0.9177\n",
      "Epoch 12/15\n",
      "297/297 [==============================] - 15s 51ms/step - loss: 0.4164 - accuracy: 0.8770 - val_loss: 0.2138 - val_accuracy: 0.9209\n",
      "Epoch 13/15\n",
      "297/297 [==============================] - 15s 51ms/step - loss: 0.4019 - accuracy: 0.8846 - val_loss: 0.2196 - val_accuracy: 0.9219\n",
      "Epoch 14/15\n",
      "297/297 [==============================] - 15s 51ms/step - loss: 0.3775 - accuracy: 0.8930 - val_loss: 0.2091 - val_accuracy: 0.9262\n",
      "Epoch 15/15\n",
      "297/297 [==============================] - 15s 51ms/step - loss: 0.3661 - accuracy: 0.8955 - val_loss: 0.2123 - val_accuracy: 0.9198\n"
     ]
    }
   ],
   "source": [
    "# Freezing the pre trained layers so that their weights don't get updated\n",
    "for layer in keras_resnet152V2.layers:\n",
    "    layer.trainable=False\n",
    "\n",
    "lr = 0.0001\n",
    "epochs=15\n",
    "opt = Adam(lr=lr, decay=lr / epochs)\n",
    "model.compile(loss=\"binary_crossentropy\", optimizer=opt, metrics=[\"accuracy\"])\n",
    "\n",
    "history = model.fit(X_train, y_train, epochs=epochs, validation_data=(X_val, y_val), class_weight=class_weights, batch_size=32)"
   ]
  },
  {
   "cell_type": "code",
   "execution_count": 20,
   "metadata": {},
   "outputs": [
    {
     "name": "stdout",
     "output_type": "stream",
     "text": [
      "Training Accuracy: 89.5\n",
      "Validation Accuracy: 92.0\n"
     ]
    },
    {
     "data": {
      "image/png": "[encoded data removed]",
      "text/plain": [
       "<Figure size 432x288 with 1 Axes>"
      ]
     },
     "metadata": {
      "needs_background": "light"
     },
     "output_type": "display_data"
    },
    {
     "data": {
      "image/png": "[encoded data removed]",
      "text/plain": [
       "<Figure size 432x288 with 1 Axes>"
      ]
     },
     "metadata": {
      "needs_background": "light"
     },
     "output_type": "display_data"
    }
   ],
   "source": [
    "# Plotting loss and accuracy\n",
    "print(\"Training Accuracy:\", round(history.history['accuracy'][-1],3)*100)\n",
    "print(\"Validation Accuracy:\", round(history.history['val_accuracy'][-1],3)*100)\n",
    "# summarize history for accuracy\n",
    "plt.plot(history.history['accuracy'])\n",
    "plt.plot(history.history['val_accuracy'])\n",
    "plt.title('model accuracy')\n",
    "plt.ylabel('accuracy')\n",
    "plt.xlabel('epoch')\n",
    "plt.legend(['train_acc', 'val_acc'], loc='upper right')\n",
    "plt.show()\n",
    "\n",
    "plt.plot(history.history['loss'])\n",
    "plt.plot(history.history['val_loss'])\n",
    "plt.title('model loss')\n",
    "plt.ylabel('loss')\n",
    "plt.xlabel('epoch')\n",
    "plt.legend(['train_loss', 'val_loss'], loc='upper right')\n",
    "plt.show()"
   ]
  },
  {
   "cell_type": "code",
   "execution_count": 21,
   "metadata": {},
   "outputs": [
    {
     "name": "stdout",
     "output_type": "stream",
     "text": [
      "              precision    recall  f1-score   support\n",
      "\n",
      " not smiling       0.93      0.86      0.89      1895\n",
      "     smiling       0.70      0.82      0.76       738\n",
      "\n",
      "    accuracy                           0.85      2633\n",
      "   macro avg       0.81      0.84      0.83      2633\n",
      "weighted avg       0.86      0.85      0.86      2633\n",
      "\n"
     ]
    }
   ],
   "source": [
    "# Testing on test set and calculating accuracy\n",
    "predictions = model.predict(X_test, batch_size=32)\n",
    "print(classification_report(y_test.argmax(axis=1), predictions.argmax(axis=1), target_names=lencoder.classes_))"
   ]
  },
  {
   "cell_type": "code",
   "execution_count": 22,
   "metadata": {},
   "outputs": [
    {
     "name": "stdout",
     "output_type": "stream",
     "text": [
      "[[0.02684645 0.97315353]]\n",
      "smiling\n",
      "[[9.9999845e-01 1.5524404e-06]]\n",
      "Not Smiling\n"
     ]
    }
   ],
   "source": [
    "# Haar Cascadde to detect faces in a given custom images\n",
    "detector = cv2.CascadeClassifier(\"haarcascade_frontalface_default.xml\")\n",
    "# Testing smiling face\n",
    "input_image = cv2.imread(\"smiling_face (1).jpg\")\n",
    "input_image = cv2.resize(input_image, (300, 300))\n",
    "\n",
    "detects = detector.detectMultiScale(input_image, scaleFactor=1.1, minNeighbors=5, minSize=(30, 30), flags=cv2.CASCADE_SCALE_IMAGE)\n",
    "for (x, y, width, height) in detects:\n",
    "    roi = input_image[y:y+height, x:x+width]\n",
    "    roi = cv2.resize(roi, (64, 64))\n",
    "    roi = roi/255.0\n",
    "    roi = img_to_array(roi)\n",
    "    roi = np.expand_dims(roi, axis=0)\n",
    "    print(model.predict(roi))\n",
    "    (notSmiling, smiling) = model.predict(roi)[0]\n",
    "    if smiling > notSmiling:\n",
    "        label = \"smiling\"\n",
    "    else:\n",
    "        label = \"Not Smiling\"\n",
    "    print(label)\n",
    "    \n",
    "# Testing not smiling face\n",
    "input_image = cv2.imread(\"not_smiling_face.jpg\")\n",
    "input_image = cv2.resize(input_image, (300, 300))\n",
    "\n",
    "detects = detector.detectMultiScale(input_image, scaleFactor=1.1, minNeighbors=5, minSize=(30, 30), flags=cv2.CASCADE_SCALE_IMAGE)\n",
    "for (x, y, width, height) in detects:\n",
    "    roi = input_image[y:y+height, x:x+width]\n",
    "    roi = cv2.resize(roi, (64, 64))\n",
    "    roi = roi/255.0\n",
    "    roi = img_to_array(roi)\n",
    "    roi = np.expand_dims(roi, axis=0)\n",
    "    print(model.predict(roi))\n",
    "    (notSmiling, smiling) = model.predict(roi)[0]\n",
    "    if smiling > notSmiling:\n",
    "        label = \"smiling\"\n",
    "    else:\n",
    "        label = \"Not Smiling\"\n",
    "    print(label)"
   ]
  },
  {
   "cell_type": "markdown",
   "metadata": {},
   "source": [
    "# Xception"
   ]
  },
  {
   "cell_type": "code",
   "execution_count": 23,
   "metadata": {},
   "outputs": [],
   "source": [
    "# Resizing the image according to size specification of Xception\n",
    "image_data = []\n",
    "\n",
    "for path in imagePaths:\n",
    "    image = cv2.imread(path)\n",
    "    image = img_to_array(image)\n",
    "    image = cv2.resize(image, (128, 128))\n",
    "    image_data.append(image)\n",
    "\n",
    "image_data = np.asarray(image_data) / 255.0\n",
    "\n",
    "X_train, X_test, y_train, y_test = train_test_split(image_data, labels, test_size=0.2, stratify=labels, random_state=42)\n",
    "\n",
    "X_train = X_train[:-round(len(X_train)/10)]\n",
    "y_train = y_train[:-round(len(y_train)/10)]\n",
    "X_val = X_train[-round(len(X_train)/10):]\n",
    "y_val = y_train[-round(len(y_train)/10):]"
   ]
  },
  {
   "cell_type": "code",
   "execution_count": 24,
   "metadata": {},
   "outputs": [],
   "source": [
    "# loading Xception pre-trained model\n",
    "keras_xception = Xception(weights=\"imagenet\", include_top=False, input_shape=X_train.shape[1:4])\n",
    "\n",
    "# Creating custom FC layers\n",
    "head = keras_xception.output\n",
    "head = MaxPooling2D(pool_size=(2,2))(head)\n",
    "head = Flatten()(head)\n",
    "head = Dense(256, activation='relu')(head) \n",
    "head = Dropout(0.5)(head)\n",
    "head = Dense(2, activation='softmax')(head)\n",
    "\n",
    "model = Model(inputs=keras_xception.input, outputs=head)"
   ]
  },
  {
   "cell_type": "code",
   "execution_count": 25,
   "metadata": {},
   "outputs": [
    {
     "name": "stderr",
     "output_type": "stream",
     "text": [
      "C:\\Users\\nvkanirudh\\anaconda3\\lib\\site-packages\\keras\\optimizer_v2\\adam.py:105: UserWarning: The `lr` argument is deprecated, use `learning_rate` instead.\n",
      "  super(Adam, self).__init__(name, **kwargs)\n"
     ]
    },
    {
     "name": "stdout",
     "output_type": "stream",
     "text": [
      "Epoch 1/15\n",
      "297/297 [==============================] - 19s 53ms/step - loss: 0.5800 - accuracy: 0.8175 - val_loss: 0.3285 - val_accuracy: 0.8586\n",
      "Epoch 2/15\n",
      "297/297 [==============================] - 15s 51ms/step - loss: 0.4830 - accuracy: 0.8558 - val_loss: 0.3357 - val_accuracy: 0.8470\n",
      "Epoch 3/15\n",
      "297/297 [==============================] - 15s 51ms/step - loss: 0.4453 - accuracy: 0.8677 - val_loss: 0.2876 - val_accuracy: 0.8703\n",
      "Epoch 4/15\n",
      "297/297 [==============================] - 15s 51ms/step - loss: 0.4229 - accuracy: 0.8755 - val_loss: 0.2429 - val_accuracy: 0.8861\n",
      "Epoch 5/15\n",
      "297/297 [==============================] - 15s 51ms/step - loss: 0.3924 - accuracy: 0.8862 - val_loss: 0.2604 - val_accuracy: 0.8871\n",
      "Epoch 6/15\n",
      "297/297 [==============================] - 15s 51ms/step - loss: 0.3809 - accuracy: 0.8880 - val_loss: 0.2513 - val_accuracy: 0.8945\n",
      "Epoch 7/15\n",
      "297/297 [==============================] - 15s 51ms/step - loss: 0.3709 - accuracy: 0.8904 - val_loss: 0.2218 - val_accuracy: 0.9040\n",
      "Epoch 8/15\n",
      "297/297 [==============================] - 15s 51ms/step - loss: 0.3529 - accuracy: 0.8990 - val_loss: 0.2061 - val_accuracy: 0.9093\n",
      "Epoch 9/15\n",
      "297/297 [==============================] - 15s 51ms/step - loss: 0.3400 - accuracy: 0.9008 - val_loss: 0.2542 - val_accuracy: 0.8914\n",
      "Epoch 10/15\n",
      "297/297 [==============================] - 15s 51ms/step - loss: 0.3317 - accuracy: 0.9051 - val_loss: 0.1963 - val_accuracy: 0.9198\n",
      "Epoch 11/15\n",
      "297/297 [==============================] - 15s 51ms/step - loss: 0.3178 - accuracy: 0.9086 - val_loss: 0.2328 - val_accuracy: 0.9103\n",
      "Epoch 12/15\n",
      "297/297 [==============================] - 15s 51ms/step - loss: 0.3068 - accuracy: 0.9120 - val_loss: 0.2037 - val_accuracy: 0.9135\n",
      "Epoch 13/15\n",
      "297/297 [==============================] - 15s 51ms/step - loss: 0.2980 - accuracy: 0.9139 - val_loss: 0.2092 - val_accuracy: 0.9124\n",
      "Epoch 14/15\n",
      "297/297 [==============================] - 15s 51ms/step - loss: 0.2836 - accuracy: 0.9178 - val_loss: 0.2211 - val_accuracy: 0.9030\n",
      "Epoch 15/15\n",
      "297/297 [==============================] - 15s 51ms/step - loss: 0.2788 - accuracy: 0.9193 - val_loss: 0.1614 - val_accuracy: 0.9367\n"
     ]
    }
   ],
   "source": [
    "# Freezing the pre trained layers so that their weights don't get updated\n",
    "for layer in keras_xception.layers:\n",
    "    layer.trainable=False\n",
    "\n",
    "lr = 0.0001\n",
    "epochs=15\n",
    "opt = Adam(lr=lr, decay=lr / epochs)\n",
    "model.compile(loss=\"binary_crossentropy\", optimizer=opt, metrics=[\"accuracy\"])\n",
    "\n",
    "history = model.fit(X_train, y_train, epochs=epochs, validation_data=(X_val, y_val), class_weight=class_weights, batch_size=32)"
   ]
  },
  {
   "cell_type": "code",
   "execution_count": 26,
   "metadata": {},
   "outputs": [
    {
     "name": "stdout",
     "output_type": "stream",
     "text": [
      "Training Accuracy: 91.9\n",
      "Validation Accuracy: 93.7\n"
     ]
    },
    {
     "data": {
      "image/png": "[encoded data removed]",
      "text/plain": [
       "<Figure size 432x288 with 1 Axes>"
      ]
     },
     "metadata": {
      "needs_background": "light"
     },
     "output_type": "display_data"
    },
    {
     "data": {
      "image/png": "[encoded data removed]",
      "text/plain": [
       "<Figure size 432x288 with 1 Axes>"
      ]
     },
     "metadata": {
      "needs_background": "light"
     },
     "output_type": "display_data"
    }
   ],
   "source": [
    "# Plotting loss and accuracy\n",
    "print(\"Training Accuracy:\", round(history.history['accuracy'][-1],3)*100)\n",
    "print(\"Validation Accuracy:\", round(history.history['val_accuracy'][-1],3)*100)\n",
    "# summarize history for accuracy\n",
    "plt.plot(history.history['accuracy'])\n",
    "plt.plot(history.history['val_accuracy'])\n",
    "plt.title('model accuracy')\n",
    "plt.ylabel('accuracy')\n",
    "plt.xlabel('epoch')\n",
    "plt.legend(['train_acc', 'val_acc'], loc='upper right')\n",
    "plt.show()\n",
    "\n",
    "plt.plot(history.history['loss'])\n",
    "plt.plot(history.history['val_loss'])\n",
    "plt.title('model loss')\n",
    "plt.ylabel('loss')\n",
    "plt.xlabel('epoch')\n",
    "plt.legend(['train_loss', 'val_loss'], loc='upper right')\n",
    "plt.show()"
   ]
  },
  {
   "cell_type": "code",
   "execution_count": 27,
   "metadata": {},
   "outputs": [
    {
     "name": "stdout",
     "output_type": "stream",
     "text": [
      "              precision    recall  f1-score   support\n",
      "\n",
      " not smiling       0.92      0.94      0.93      1895\n",
      "     smiling       0.84      0.78      0.80       738\n",
      "\n",
      "    accuracy                           0.89      2633\n",
      "   macro avg       0.88      0.86      0.87      2633\n",
      "weighted avg       0.89      0.89      0.89      2633\n",
      "\n"
     ]
    }
   ],
   "source": [
    "# Testing on test set and calculating accuracy\n",
    "predictions = model.predict(X_test, batch_size=32)\n",
    "print(classification_report(y_test.argmax(axis=1), predictions.argmax(axis=1), target_names=lencoder.classes_))"
   ]
  },
  {
   "cell_type": "code",
   "execution_count": 28,
   "metadata": {},
   "outputs": [
    {
     "name": "stdout",
     "output_type": "stream",
     "text": [
      "[[0.34425536 0.6557446 ]]\n",
      "smiling\n",
      "[[9.99883533e-01 1.16493786e-04]]\n",
      "Not Smiling\n"
     ]
    }
   ],
   "source": [
    "# Haar Cascadde to detect faces in a given custom images\n",
    "detector = cv2.CascadeClassifier(\"haarcascade_frontalface_default.xml\")\n",
    "# Testing smiling face\n",
    "input_image = cv2.imread(\"smiling_face (1).jpg\")\n",
    "input_image = cv2.resize(input_image, (300, 300))\n",
    "\n",
    "detects = detector.detectMultiScale(input_image, scaleFactor=1.1, minNeighbors=5, minSize=(30, 30), flags=cv2.CASCADE_SCALE_IMAGE)\n",
    "for (x, y, width, height) in detects:\n",
    "    roi = input_image[y:y+height, x:x+width]\n",
    "    roi = cv2.resize(roi, (128, 128))\n",
    "    roi = roi/255.0\n",
    "    roi = img_to_array(roi)\n",
    "    roi = np.expand_dims(roi, axis=0)\n",
    "    print(model.predict(roi))\n",
    "    (notSmiling, smiling) = model.predict(roi)[0]\n",
    "    if smiling > notSmiling:\n",
    "        label = \"smiling\"\n",
    "    else:\n",
    "        label = \"Not Smiling\"\n",
    "    print(label)\n",
    "    \n",
    "# Testing not smiling face\n",
    "input_image = cv2.imread(\"not_smiling_face.jpg\")\n",
    "input_image = cv2.resize(input_image, (300, 300))\n",
    "\n",
    "detects = detector.detectMultiScale(input_image, scaleFactor=1.1, minNeighbors=5, minSize=(30, 30), flags=cv2.CASCADE_SCALE_IMAGE)\n",
    "for (x, y, width, height) in detects:\n",
    "    roi = input_image[y:y+height, x:x+width]\n",
    "    roi = cv2.resize(roi, (128, 128))\n",
    "    roi = roi/255.0\n",
    "    roi = img_to_array(roi)\n",
    "    roi = np.expand_dims(roi, axis=0)\n",
    "    print(model.predict(roi))\n",
    "    (notSmiling, smiling) = model.predict(roi)[0]\n",
    "    if smiling > notSmiling:\n",
    "        label = \"smiling\"\n",
    "    else:\n",
    "        label = \"Not Smiling\"\n",
    "    print(label)"
   ]
  },
  {
   "cell_type": "markdown",
   "metadata": {},
   "source": [
    "# InceptionResNetV2"
   ]
  },
  {
   "cell_type": "code",
   "execution_count": 29,
   "metadata": {},
   "outputs": [],
   "source": [
    "# loading InceptionResnetV2 pre-trained model\n",
    "keras_inceptionresnetv2 = InceptionResNetV2(weights=\"imagenet\", include_top=False, input_shape=X_train.shape[1:4])\n",
    "\n",
    "# creating custom FC layers\n",
    "head = keras_inceptionresnetv2.output\n",
    "head = MaxPooling2D(pool_size=(2,2))(head)\n",
    "head = Flatten()(head)\n",
    "head = Dense(256, activation='relu')(head) \n",
    "head = Dropout(0.5)(head)\n",
    "head = Dense(2, activation='softmax')(head)\n",
    "\n",
    "model = Model(inputs=keras_inceptionresnetv2.input, outputs=head)"
   ]
  },
  {
   "cell_type": "code",
   "execution_count": 30,
   "metadata": {},
   "outputs": [
    {
     "name": "stderr",
     "output_type": "stream",
     "text": [
      "C:\\Users\\nvkanirudh\\anaconda3\\lib\\site-packages\\keras\\optimizer_v2\\adam.py:105: UserWarning: The `lr` argument is deprecated, use `learning_rate` instead.\n",
      "  super(Adam, self).__init__(name, **kwargs)\n"
     ]
    },
    {
     "name": "stdout",
     "output_type": "stream",
     "text": [
      "Epoch 1/15\n",
      "297/297 [==============================] - 36s 92ms/step - loss: 0.8028 - accuracy: 0.7589 - val_loss: 0.4414 - val_accuracy: 0.8122\n",
      "Epoch 2/15\n",
      "297/297 [==============================] - 24s 79ms/step - loss: 0.6262 - accuracy: 0.8084 - val_loss: 0.3711 - val_accuracy: 0.8428\n",
      "Epoch 3/15\n",
      "297/297 [==============================] - 24s 79ms/step - loss: 0.5786 - accuracy: 0.8221 - val_loss: 0.3556 - val_accuracy: 0.8555\n",
      "Epoch 4/15\n",
      "297/297 [==============================] - 24s 79ms/step - loss: 0.5607 - accuracy: 0.8316 - val_loss: 0.3139 - val_accuracy: 0.8776\n",
      "Epoch 5/15\n",
      "297/297 [==============================] - 24s 80ms/step - loss: 0.5350 - accuracy: 0.8413 - val_loss: 0.3135 - val_accuracy: 0.8755\n",
      "Epoch 6/15\n",
      "297/297 [==============================] - 23s 79ms/step - loss: 0.5198 - accuracy: 0.8408 - val_loss: 0.3248 - val_accuracy: 0.8745\n",
      "Epoch 7/15\n",
      "297/297 [==============================] - 24s 80ms/step - loss: 0.4990 - accuracy: 0.8496 - val_loss: 0.2904 - val_accuracy: 0.8892\n",
      "Epoch 8/15\n",
      "297/297 [==============================] - 24s 79ms/step - loss: 0.4935 - accuracy: 0.8534 - val_loss: 0.2627 - val_accuracy: 0.8987\n",
      "Epoch 9/15\n",
      "297/297 [==============================] - 24s 79ms/step - loss: 0.4760 - accuracy: 0.8584 - val_loss: 0.3097 - val_accuracy: 0.8914\n",
      "Epoch 10/15\n",
      "297/297 [==============================] - 24s 80ms/step - loss: 0.4715 - accuracy: 0.8643 - val_loss: 0.2788 - val_accuracy: 0.8956\n",
      "Epoch 11/15\n",
      "297/297 [==============================] - 26s 87ms/step - loss: 0.4539 - accuracy: 0.8652 - val_loss: 0.2432 - val_accuracy: 0.9114\n",
      "Epoch 12/15\n",
      "297/297 [==============================] - 26s 88ms/step - loss: 0.4459 - accuracy: 0.8700 - val_loss: 0.2681 - val_accuracy: 0.9040\n",
      "Epoch 13/15\n",
      "297/297 [==============================] - 28s 93ms/step - loss: 0.4385 - accuracy: 0.8723 - val_loss: 0.2557 - val_accuracy: 0.9082\n",
      "Epoch 14/15\n",
      "297/297 [==============================] - 24s 82ms/step - loss: 0.4319 - accuracy: 0.8738 - val_loss: 0.2700 - val_accuracy: 0.9030\n",
      "Epoch 15/15\n",
      "297/297 [==============================] - 24s 80ms/step - loss: 0.4241 - accuracy: 0.8720 - val_loss: 0.2227 - val_accuracy: 0.9167\n"
     ]
    }
   ],
   "source": [
    "# Freezing the pre trained layers so that their weights don't get updated\n",
    "for layer in keras_inceptionresnetv2.layers:\n",
    "    layer.trainable=False\n",
    "\n",
    "lr = 0.0001\n",
    "epochs=15\n",
    "opt = Adam(lr=lr, decay=lr / epochs)\n",
    "model.compile(loss=\"binary_crossentropy\", optimizer=opt, metrics=[\"accuracy\"])\n",
    "\n",
    "history = model.fit(X_train, y_train, epochs=epochs, validation_data=(X_val, y_val), class_weight=class_weights, batch_size=32)"
   ]
  },
  {
   "cell_type": "code",
   "execution_count": 31,
   "metadata": {},
   "outputs": [
    {
     "name": "stdout",
     "output_type": "stream",
     "text": [
      "Training Accuracy: 87.2\n",
      "Validation Accuracy: 91.7\n"
     ]
    },
    {
     "data": {
      "image/png": "[encoded data removed]",
      "text/plain": [
       "<Figure size 432x288 with 1 Axes>"
      ]
     },
     "metadata": {
      "needs_background": "light"
     },
     "output_type": "display_data"
    },
    {
     "data": {
      "image/png": "[encoded data removed]",
      "text/plain": [
       "<Figure size 432x288 with 1 Axes>"
      ]
     },
     "metadata": {
      "needs_background": "light"
     },
     "output_type": "display_data"
    }
   ],
   "source": [
    "# Plotting loss and accuracy\n",
    "print(\"Training Accuracy:\", round(history.history['accuracy'][-1],3)*100)\n",
    "print(\"Validation Accuracy:\", round(history.history['val_accuracy'][-1],3)*100)\n",
    "# summarize history for accuracy\n",
    "plt.plot(history.history['accuracy'])\n",
    "plt.plot(history.history['val_accuracy'])\n",
    "plt.title('model accuracy')\n",
    "plt.ylabel('accuracy')\n",
    "plt.xlabel('epoch')\n",
    "plt.legend(['train_acc', 'val_acc'], loc='upper right')\n",
    "plt.show()\n",
    "\n",
    "plt.plot(history.history['loss'])\n",
    "plt.plot(history.history['val_loss'])\n",
    "plt.title('model loss')\n",
    "plt.ylabel('loss')\n",
    "plt.xlabel('epoch')\n",
    "plt.legend(['train_loss', 'val_loss'], loc='upper right')\n",
    "plt.show()"
   ]
  },
  {
   "cell_type": "code",
   "execution_count": 32,
   "metadata": {},
   "outputs": [
    {
     "name": "stdout",
     "output_type": "stream",
     "text": [
      "              precision    recall  f1-score   support\n",
      "\n",
      " not smiling       0.92      0.89      0.91      1895\n",
      "     smiling       0.74      0.80      0.77       738\n",
      "\n",
      "    accuracy                           0.87      2633\n",
      "   macro avg       0.83      0.85      0.84      2633\n",
      "weighted avg       0.87      0.87      0.87      2633\n",
      "\n"
     ]
    }
   ],
   "source": [
    "# Testing on test set and calculating accuracy\n",
    "predictions = model.predict(X_test, batch_size=32)\n",
    "print(classification_report(y_test.argmax(axis=1), predictions.argmax(axis=1), target_names=lencoder.classes_))"
   ]
  },
  {
   "cell_type": "code",
   "execution_count": 33,
   "metadata": {},
   "outputs": [
    {
     "name": "stdout",
     "output_type": "stream",
     "text": [
      "[[0.01759451 0.9824055 ]]\n",
      "smiling\n",
      "[[0.9407875  0.05921246]]\n",
      "Not Smiling\n"
     ]
    }
   ],
   "source": [
    "# Haar Cascadde to detect faces in a given custom images\n",
    "detector = cv2.CascadeClassifier(\"haarcascade_frontalface_default.xml\")\n",
    "# Testing smiling face\n",
    "input_image = cv2.imread(\"smiling_face (1).jpg\")\n",
    "input_image = cv2.resize(input_image, (300, 300))\n",
    "\n",
    "detects = detector.detectMultiScale(input_image, scaleFactor=1.1, minNeighbors=5, minSize=(30, 30), flags=cv2.CASCADE_SCALE_IMAGE)\n",
    "for (x, y, width, height) in detects:\n",
    "    roi = input_image[y:y+height, x:x+width]\n",
    "    roi = cv2.resize(roi, (128, 128))\n",
    "    roi = roi/255.0\n",
    "    roi = img_to_array(roi)\n",
    "    roi = np.expand_dims(roi, axis=0)\n",
    "    print(model.predict(roi))\n",
    "    (notSmiling, smiling) = model.predict(roi)[0]\n",
    "    if smiling > notSmiling:\n",
    "        label = \"smiling\"\n",
    "    else:\n",
    "        label = \"Not Smiling\"\n",
    "    print(label)\n",
    "    \n",
    "# Testing not smiling face\n",
    "input_image = cv2.imread(\"not_smiling_face.jpg\")\n",
    "input_image = cv2.resize(input_image, (300, 300))\n",
    "\n",
    "detects = detector.detectMultiScale(input_image, scaleFactor=1.1, minNeighbors=5, minSize=(30, 30), flags=cv2.CASCADE_SCALE_IMAGE)\n",
    "for (x, y, width, height) in detects:\n",
    "    roi = input_image[y:y+height, x:x+width]\n",
    "    roi = cv2.resize(roi, (128, 128))\n",
    "    roi = roi/255.0\n",
    "    roi = img_to_array(roi)\n",
    "    roi = np.expand_dims(roi, axis=0)\n",
    "    print(model.predict(roi))\n",
    "    (notSmiling, smiling) = model.predict(roi)[0]\n",
    "    if smiling > notSmiling:\n",
    "        label = \"smiling\"\n",
    "    else:\n",
    "        label = \"Not Smiling\"\n",
    "    print(label)"
   ]
  },
  {
   "cell_type": "markdown",
   "metadata": {},
   "source": [
    "# LeNet Architecture"
   ]
  },
  {
   "cell_type": "code",
   "execution_count": 34,
   "metadata": {},
   "outputs": [
    {
     "data": {
      "text/plain": [
       "(9479, 28, 28, 1)"
      ]
     },
     "execution_count": 34,
     "metadata": {},
     "output_type": "execute_result"
    }
   ],
   "source": [
    "# Building LeNet5 architecture\n",
    "def LeNet(width, height, channels, classes):\n",
    "    input_shape = (width, height, channels)\n",
    "    \n",
    "    model = Sequential()\n",
    "    \n",
    "    model.add(Conv2D(6, 5, padding=\"same\", input_shape=input_shape))\n",
    "    model.add(Activation(\"tanh\"))\n",
    "    model.add(AveragePooling2D(pool_size=(2,2), strides=(2,2)))\n",
    "    \n",
    "    model.add(Conv2D(16, 5, padding=\"same\", input_shape=input_shape))\n",
    "    model.add(Activation(\"tanh\"))\n",
    "    model.add(AveragePooling2D(pool_size=(2,2), strides=(2,2)))\n",
    "    \n",
    "    model.add(Conv2D(120, 5, padding=\"same\", input_shape=input_shape))\n",
    "    model.add(Activation(\"tanh\"))\n",
    "    \n",
    "#     Fully Connected layers\n",
    "    model.add(Flatten())\n",
    "    model.add(Dense(500))\n",
    "    model.add(Activation(\"tanh\"))\n",
    "    \n",
    "#     Last FC layer\n",
    "    model.add(Dense(classes))\n",
    "    model.add(Activation(\"softmax\"))\n",
    "    \n",
    "    return model\n",
    "\n",
    "image_data = []\n",
    "\n",
    "for path in imagePaths:\n",
    "    image = cv2.imread(path)\n",
    "    image = cv2.cvtColor(image, cv2.COLOR_BGR2GRAY)\n",
    "    image = cv2.resize(image, (28, 28))\n",
    "    image = img_to_array(image)\n",
    "    \n",
    "    image_data.append(image)\n",
    "    \n",
    "\n",
    "image_data = np.asarray(image_data) / 255.0\n",
    "X_train, X_test, y_train, y_test = train_test_split(image_data, labels, test_size=0.2, stratify=labels, random_state=42)\n",
    "\n",
    "X_train = X_train[:-round(len(X_train)/10)]\n",
    "y_train = y_train[:-round(len(y_train)/10)]\n",
    "X_val = X_train[-round(len(X_train)/10):]\n",
    "y_val = y_train[-round(len(y_train)/10):]\n",
    "X_train.shape"
   ]
  },
  {
   "cell_type": "code",
   "execution_count": 35,
   "metadata": {},
   "outputs": [
    {
     "name": "stdout",
     "output_type": "stream",
     "text": [
      "Epoch 1/15\n",
      "297/297 [==============================] - 5s 8ms/step - loss: 0.7419 - accuracy: 0.7507 - val_loss: 0.3540 - val_accuracy: 0.8597\n",
      "Epoch 2/15\n",
      "297/297 [==============================] - 2s 7ms/step - loss: 0.5680 - accuracy: 0.8248 - val_loss: 0.3260 - val_accuracy: 0.8776\n",
      "Epoch 3/15\n",
      "297/297 [==============================] - 2s 7ms/step - loss: 0.5567 - accuracy: 0.8306 - val_loss: 0.3311 - val_accuracy: 0.8703\n",
      "Epoch 4/15\n",
      "297/297 [==============================] - 2s 7ms/step - loss: 0.5522 - accuracy: 0.8306 - val_loss: 0.3297 - val_accuracy: 0.8724\n",
      "Epoch 5/15\n",
      "297/297 [==============================] - 2s 6ms/step - loss: 0.5418 - accuracy: 0.8351 - val_loss: 0.3536 - val_accuracy: 0.8534\n",
      "Epoch 6/15\n",
      "297/297 [==============================] - 2s 6ms/step - loss: 0.5353 - accuracy: 0.8398 - val_loss: 0.3935 - val_accuracy: 0.8143\n",
      "Epoch 7/15\n",
      "297/297 [==============================] - 2s 6ms/step - loss: 0.5342 - accuracy: 0.8369 - val_loss: 0.3404 - val_accuracy: 0.8470\n",
      "Epoch 8/15\n",
      "297/297 [==============================] - 2s 6ms/step - loss: 0.5171 - accuracy: 0.8428 - val_loss: 0.2956 - val_accuracy: 0.8755\n",
      "Epoch 9/15\n",
      "297/297 [==============================] - 2s 6ms/step - loss: 0.5098 - accuracy: 0.8459 - val_loss: 0.2992 - val_accuracy: 0.8776\n",
      "Epoch 10/15\n",
      "297/297 [==============================] - 2s 6ms/step - loss: 0.4987 - accuracy: 0.8503 - val_loss: 0.3379 - val_accuracy: 0.8449\n",
      "Epoch 11/15\n",
      "297/297 [==============================] - 2s 6ms/step - loss: 0.4896 - accuracy: 0.8499 - val_loss: 0.3318 - val_accuracy: 0.8576\n",
      "Epoch 12/15\n",
      "297/297 [==============================] - 2s 6ms/step - loss: 0.4685 - accuracy: 0.8573 - val_loss: 0.3488 - val_accuracy: 0.8418\n",
      "Epoch 13/15\n",
      "297/297 [==============================] - ETA: 0s - loss: 0.4620 - accuracy: 0.86 - 2s 7ms/step - loss: 0.4601 - accuracy: 0.8613 - val_loss: 0.2384 - val_accuracy: 0.9082\n",
      "Epoch 14/15\n",
      "297/297 [==============================] - 2s 7ms/step - loss: 0.4299 - accuracy: 0.8709 - val_loss: 0.3058 - val_accuracy: 0.8766\n",
      "Epoch 15/15\n",
      "297/297 [==============================] - 2s 6ms/step - loss: 0.4171 - accuracy: 0.8763 - val_loss: 0.2548 - val_accuracy: 0.8903\n"
     ]
    }
   ],
   "source": [
    "model = LeNet(28, 28, 1, 2)\n",
    "model.compile(loss=\"binary_crossentropy\", optimizer=\"adam\", metrics=[\"accuracy\"])\n",
    "\n",
    "history = model.fit(X_train, y_train, epochs=15, validation_data=(X_val, y_val), class_weight=class_weights, batch_size=32)"
   ]
  },
  {
   "cell_type": "code",
   "execution_count": 36,
   "metadata": {},
   "outputs": [
    {
     "name": "stdout",
     "output_type": "stream",
     "text": [
      "Training Accuracy: 87.6\n",
      "Validation Accuracy: 89.0\n"
     ]
    },
    {
     "data": {
      "image/png": "[encoded data removed]",
      "text/plain": [
       "<Figure size 432x288 with 1 Axes>"
      ]
     },
     "metadata": {
      "needs_background": "light"
     },
     "output_type": "display_data"
    },
    {
     "data": {
      "image/png": "[encoded data removed]",
      "text/plain": [
       "<Figure size 432x288 with 1 Axes>"
      ]
     },
     "metadata": {
      "needs_background": "light"
     },
     "output_type": "display_data"
    }
   ],
   "source": [
    "# Plotting loss and accuracy\n",
    "print(\"Training Accuracy:\", round(history.history['accuracy'][-1],3)*100)\n",
    "print(\"Validation Accuracy:\", round(history.history['val_accuracy'][-1],3)*100)\n",
    "# summarize history for accuracy\n",
    "plt.plot(history.history['accuracy'])\n",
    "plt.plot(history.history['val_accuracy'])\n",
    "plt.title('model accuracy')\n",
    "plt.ylabel('accuracy')\n",
    "plt.xlabel('epoch')\n",
    "plt.legend(['train_acc', 'val_acc'], loc='upper right')\n",
    "plt.show()\n",
    "\n",
    "plt.plot(history.history['loss'])\n",
    "plt.plot(history.history['val_loss'])\n",
    "plt.title('model loss')\n",
    "plt.ylabel('loss')\n",
    "plt.xlabel('epoch')\n",
    "plt.legend(['train_loss', 'val_loss'], loc='upper right')\n",
    "plt.show()"
   ]
  },
  {
   "cell_type": "code",
   "execution_count": 37,
   "metadata": {},
   "outputs": [
    {
     "name": "stdout",
     "output_type": "stream",
     "text": [
      "              precision    recall  f1-score   support\n",
      "\n",
      " not smiling       0.94      0.83      0.88      1895\n",
      "     smiling       0.67      0.87      0.76       738\n",
      "\n",
      "    accuracy                           0.84      2633\n",
      "   macro avg       0.81      0.85      0.82      2633\n",
      "weighted avg       0.87      0.84      0.85      2633\n",
      "\n"
     ]
    }
   ],
   "source": [
    "# Testing on test set and calculating accuracy\n",
    "predictions = model.predict(X_test, batch_size=32)\n",
    "print(classification_report(y_test.argmax(axis=1), predictions.argmax(axis=1), target_names=lencoder.classes_))"
   ]
  },
  {
   "cell_type": "code",
   "execution_count": 38,
   "metadata": {},
   "outputs": [
    {
     "name": "stdout",
     "output_type": "stream",
     "text": [
      "[[0.01016321 0.98983675]]\n",
      "smiling\n",
      "[[0.99729604 0.00270394]]\n",
      "Not Smiling\n"
     ]
    }
   ],
   "source": [
    "# Haar Cascadde to detect faces in a given custom images\n",
    "detector = cv2.CascadeClassifier(\"haarcascade_frontalface_default.xml\")\n",
    "# Testing smiling face\n",
    "input_image = cv2.imread(\"smiling_face (1).jpg\")\n",
    "input_image = cv2.resize(input_image, (300, 300))\n",
    "input_image = cv2.cvtColor(input_image, cv2.COLOR_BGR2GRAY)\n",
    "\n",
    "detects = detector.detectMultiScale(input_image, scaleFactor=1.1, minNeighbors=5, minSize=(30, 30), flags=cv2.CASCADE_SCALE_IMAGE)\n",
    "for (x, y, width, height) in detects:\n",
    "    roi = input_image[y:y+height, x:x+width]\n",
    "    roi = cv2.resize(roi, (28, 28))\n",
    "    roi = roi/255.0\n",
    "    roi = img_to_array(roi)\n",
    "    roi = np.expand_dims(roi, axis=0)\n",
    "    print(model.predict(roi))\n",
    "    (notSmiling, smiling) = model.predict(roi)[0]\n",
    "    if smiling > notSmiling:\n",
    "        label = \"smiling\"\n",
    "    else:\n",
    "        label = \"Not Smiling\"\n",
    "    print(label)\n",
    "    \n",
    "# Testing not smiling face\n",
    "input_image = cv2.imread(\"not_smiling_face.jpg\")\n",
    "input_image = cv2.resize(input_image, (300, 300))\n",
    "input_image = cv2.cvtColor(input_image, cv2.COLOR_BGR2GRAY)\n",
    "\n",
    "detects = detector.detectMultiScale(input_image, scaleFactor=1.1, minNeighbors=5, minSize=(30, 30), flags=cv2.CASCADE_SCALE_IMAGE)\n",
    "for (x, y, width, height) in detects:\n",
    "    roi = input_image[y:y+height, x:x+width]\n",
    "    roi = cv2.resize(roi, (28, 28))\n",
    "    roi = roi/255.0\n",
    "    roi = img_to_array(roi)\n",
    "    roi = np.expand_dims(roi, axis=0)\n",
    "    print(model.predict(roi))\n",
    "    (notSmiling, smiling) = model.predict(roi)[0]\n",
    "    if smiling > notSmiling:\n",
    "        label = \"smiling\"\n",
    "    else:\n",
    "        label = \"Not Smiling\"\n",
    "    print(label)"
   ]
  },
  {
   "cell_type": "code",
   "execution_count": 39,
   "metadata": {},
   "outputs": [
    {
     "data": {
      "text/plain": [
       "Text(0, 0.5, 'Accuracy')"
      ]
     },
     "execution_count": 39,
     "metadata": {},
     "output_type": "execute_result"
    },
    {
     "data": {
      "image/png": "[encoded data removed]",
      "text/plain": [
       "<Figure size 432x288 with 1 Axes>"
      ]
     },
     "metadata": {
      "needs_background": "light"
     },
     "output_type": "display_data"
    }
   ],
   "source": [
    "# Plotting testing accuracies of all the architectures\n",
    "accuracies = [68, 83, 85, 89, 86, 81]\n",
    "X = [\"Xception\", \"InceptionResNetV2\", \"ResNet152V2\", \"VGG16\", \"LeNet\", \"ResNet50\"]\n",
    "y = sorted(accuracies, reverse=True)\n",
    "\n",
    "plt.plot(X,y)\n",
    "plt.xticks(rotation=90)\n",
    "plt.title(\"Architectures vs Accuracy\")\n",
    "plt.xlabel(\"Architectures\")\n",
    "plt.ylabel(\"Accuracy\")"
   ]
  },
  {
   "cell_type": "code",
   "execution_count": null,
   "metadata": {},
   "outputs": [],
   "source": [
    "\n"
   ]
  }
 ],
 "metadata": {
  "kernelspec": {
   "display_name": "Python 3",
   "language": "python",
   "name": "python3"
  },
  "language_info": {
   "codemirror_mode": {
    "name": "ipython",
    "version": 3
   },
   "file_extension": ".py",
   "mimetype": "text/x-python",
   "name": "python",
   "nbconvert_exporter": "python",
   "pygments_lexer": "ipython3",
   "version": "3.8.5"
  }
 },
 "nbformat": 4,
 "nbformat_minor": 4
}
